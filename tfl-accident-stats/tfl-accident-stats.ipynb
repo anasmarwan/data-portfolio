{
 "cells": [
  {
   "cell_type": "markdown",
   "metadata": {},
   "source": [
    "# Tfl Accident Stats\n",
    "\n",
    "*by Anas Razak*\n",
    "\n",
    "Transport for London (tfl). accident stats 2019-2021"
   ]
  },
  {
   "cell_type": "markdown",
   "metadata": {},
   "source": [
    "## Fetching data from API\n",
    "\n",
    "import packages"
   ]
  },
  {
   "cell_type": "code",
   "execution_count": 1,
   "metadata": {},
   "outputs": [],
   "source": [
    "# importing libraries; requests, time, json\n",
    "import requests\n",
    "import time\n",
    "import json"
   ]
  },
  {
   "cell_type": "code",
   "execution_count": 3,
   "metadata": {},
   "outputs": [],
   "source": [
    "def acc_stats_year(year):\n",
    "    url = 'https://api.tfl.gov.uk/AccidentStats/' + str(year)\n",
    "    r = requests.get(url)\n",
    "    data = r.json()\n",
    "\n",
    "    list1 = []\n",
    "    list2 = []\n",
    "    list3 = []\n",
    "\n",
    "    t1 = time.perf_counter()\n",
    "\n",
    "    for accident in data:\n",
    "        accident_casualties = accident['casualties'] # [0]\n",
    "        accident_vehicles = accident['vehicles'] # [0]\n",
    "\n",
    "        n, m = len(accident_casualties), len(accident_vehicles)\n",
    "\n",
    "        for i in range(n):\n",
    "            del accident_casualties[i]['$type']\n",
    "        \n",
    "        for j in range(m):\n",
    "            del accident_vehicles[j]['$type']\n",
    "\n",
    "        info1 = {\n",
    "            'id': accident['id'],\n",
    "            'lat': accident['lat'],\n",
    "            'lon': accident['lon'],\n",
    "            'location': accident['location'],\n",
    "            'date': accident['date'],\n",
    "            'severity': accident['severity'],\n",
    "            'borough' : accident['borough']\n",
    "        }\n",
    "        \n",
    "        list1.append(info1)\n",
    "\n",
    "        info2 = {\n",
    "            'id': accident['id'],\n",
    "            'casualties': accident_casualties\n",
    "        }\n",
    "\n",
    "        list2.append(info2)\n",
    "\n",
    "        info3 = {\n",
    "            'id': accident['id'],\n",
    "            'vehicles': accident_vehicles\n",
    "        }\n",
    "\n",
    "        list3.append(info3)\n",
    "\n",
    "        time.sleep(r.elapsed.total_seconds())\n",
    "\n",
    "        print(f\"Got accident {accident['id']} info in {r.elapsed.total_seconds()}\")\n",
    "    \n",
    "    t2 = time.perf_counter()\n",
    "\n",
    "    print(f\"Finished looping for {t2-t1} seconds\")\n",
    "\n",
    "    with open(f'accident_{year}.json', 'w') as f:\n",
    "        json.dump(list1, f, indent=2)\n",
    "\n",
    "    with open(f'accident_{year}_casualties.json', 'w') as h:\n",
    "        json.dump(list2, h, indent=2)\n",
    "    \n",
    "    with open(f'accident_{year}_vehicles.json', 'w') as k:\n",
    "        json.dump(list3, k, indent=2)"
   ]
  },
  {
   "cell_type": "code",
   "execution_count": null,
   "metadata": {},
   "outputs": [],
   "source": [
    "acc_stats_year(2019)"
   ]
  },
  {
   "cell_type": "code",
   "execution_count": null,
   "metadata": {},
   "outputs": [],
   "source": [
    "acc_stats_year(2020)"
   ]
  },
  {
   "cell_type": "code",
   "execution_count": null,
   "metadata": {},
   "outputs": [],
   "source": [
    "acc_stats_year(2021)"
   ]
  }
 ],
 "metadata": {
  "interpreter": {
   "hash": "bc9168344e6e393c4927a8d35958e502445ceb400c2812a2633f1f9236e77d32"
  },
  "kernelspec": {
   "display_name": "Python 3.7.4 64-bit",
   "language": "python",
   "name": "python3"
  },
  "language_info": {
   "codemirror_mode": {
    "name": "ipython",
    "version": 3
   },
   "file_extension": ".py",
   "mimetype": "text/x-python",
   "name": "python",
   "nbconvert_exporter": "python",
   "pygments_lexer": "ipython3",
   "version": "3.7.4"
  },
  "orig_nbformat": 4
 },
 "nbformat": 4,
 "nbformat_minor": 2
}
